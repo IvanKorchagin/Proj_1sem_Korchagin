{
  "nbformat": 4,
  "nbformat_minor": 0,
  "metadata": {
    "colab": {
      "name": "Untitled0.ipynb",
      "provenance": [],
      "authorship_tag": "ABX9TyMIDhvuIRV/qEQOQQkcoeyC",
      "include_colab_link": true
    },
    "kernelspec": {
      "name": "python3",
      "display_name": "Python 3"
    },
    "language_info": {
      "name": "python"
    }
  },
  "cells": [
    {
      "cell_type": "markdown",
      "metadata": {
        "id": "view-in-github",
        "colab_type": "text"
      },
      "source": [
        "<a href=\"https://colab.research.google.com/github/IvanKorchagin/Proj_1sem_Korchagin/blob/master/PZ_11.ipynb\" target=\"_parent\"><img src=\"https://colab.research.google.com/assets/colab-badge.svg\" alt=\"Open In Colab\"/></a>"
      ]
    },
    {
      "cell_type": "code",
      "execution_count": null,
      "metadata": {
        "colab": {
          "base_uri": "https://localhost:8080/"
        },
        "id": "QSJh_ROY5kly",
        "outputId": "89dd8592-2354-4671-b61c-e751a9f57fb9"
      },
      "outputs": [
        {
          "output_type": "stream",
          "name": "stdout",
          "text": [
            "Введите целое трехзначное число: 111\n",
            "Не все цифры данного числа различны\n",
            "Программа успешно завершена!\n"
          ]
        }
      ],
      "source": [
        "# Вариант 21\n",
        "# Дано трехзначное число. Проверить истинность высказывания: «Все цифры данного числа различны»\n",
        "\n",
        "x = input(\"Введите целое трехзначное число: \")\n",
        "\n",
        "while type(x) != int:           # обработка исключений\n",
        "    try:\n",
        "        x = int(x)\n",
        "    except ValueError:\n",
        "        print(\"Введите снова!\")\n",
        "        x = input(\"Введите целое трехзначное число: \")\n",
        "\n",
        "if (x / 100) != (x // 10 % 10) != (x % 10):                  # операция по сравнению цифр в числе\n",
        "    print(\"Все цифры данного числа различны\")\n",
        "else:\n",
        "    print(\"Не все цифры данного числа различны\")\n",
        "print(\"Программа успешно завершена!\")"
      ]
    },
    {
      "cell_type": "code",
      "source": [
        "# Дано вещественное число X (|X|<1) и целое число N (>0)\n",
        "# Найти значение выражения X - X**2/2 + X**3/3 - ... + (-1)**(N-1)*X**N/N\n",
        "# Полученное число является приближенным значением функции ln в точке 1 + X\n",
        "\n",
        "import math\n",
        "\n",
        "x = input(\"Введите число x: \")\n",
        "while type(x) != float:                  # обработка исключений\n",
        "    try:\n",
        "        x = float(x)\n",
        "    except ValueError:\n",
        "        print(\"Введите снова!\")\n",
        "        x = input(\"Введите вещественное число: \")\n",
        "while abs(x) >= 1:                      # обработка исключений\n",
        "    x = input(\"Введите число меньше единицы по модулю: \")\n",
        "    while type(x) != float:\n",
        "        try:\n",
        "            x = float(x)\n",
        "        except ValueError:\n",
        "            print(\"Введите снова!\")\n",
        "            x = input(\"Введите вещественное число: \")\n",
        "\n",
        "n = input(\"Введите целое число n: \")\n",
        "while type(n) != int:                  # обработка исключений\n",
        "    try:\n",
        "        n = int(n)\n",
        "    except ValueError:\n",
        "        print(\"Введите снова!\")\n",
        "        n = input(\"Введите целое число: \")\n",
        "while n <= 0:                          # обработка исключений\n",
        "    n = input(\"Введите положительное число: \")\n",
        "    while type(n) != int:\n",
        "        try:\n",
        "            n = int(n)\n",
        "        except ValueError:\n",
        "            print(\"Введите снова!\")\n",
        "            n = input(\"Введите целое число: \")\n",
        "\n",
        "num1 = 1\n",
        "res = 0\n",
        "while num1 < int(n):\n",
        "    num2 = (-1) ** (num1 - 1)\n",
        "    num3 = abs(x) ** num1 / num1\n",
        "    num4 = num2 * num3\n",
        "    res += num4\n",
        "    num1 += 1\n",
        "print(\"Значение выражения равно: \", res)\n",
        "print(\"Приближенное значение функции ln в точке (1+x) равно: \", math.log(1 + abs(x)))"
      ],
      "metadata": {
        "colab": {
          "base_uri": "https://localhost:8080/"
        },
        "id": "M04fvwb35n23",
        "outputId": "1f5e4762-431e-4af1-ed1f-8e4e50348f84"
      },
      "execution_count": null,
      "outputs": [
        {
          "output_type": "stream",
          "name": "stdout",
          "text": [
            "Введите число x: 10\n",
            "Введите число меньше единицы по модулю: 0.2\n",
            "Введите целое число n: 10\n",
            "Значение выражения равно:  0.18232156546031747\n",
            "Приближенное значение функции ln в точке (1+x) равно:  0.1823215567939546\n"
          ]
        }
      ]
    },
    {
      "cell_type": "code",
      "source": [
        "# Вариант 21\n",
        "# Составить функцию, которая выполнит суммирования числового ряда (1 + 2 + ... + N).\n",
        "\n",
        "def summa(n):                                                 # функция, находящая сумму числового ряда\n",
        "    sum1 = 0\n",
        "    res = 0\n",
        "    print(\"Сумма членов числового ряда:\", \"( \", end=\"\")\n",
        "    while sum1 < n:\n",
        "        sum1 += 1\n",
        "        res += sum1\n",
        "        print(sum1, end=\" \")\n",
        "    print(\")\", \"=\", res, end=\" \")\n",
        "\n",
        "\n",
        "N = (input(\"Введите количество членов числового ряда: \"))\n",
        "while type(N) != int:                   # обработка исключений\n",
        "    try:\n",
        "        N = int(N)\n",
        "    except ValueError:\n",
        "        N = input(\"Введите целое положительное число: \")\n",
        "summa(N)"
      ],
      "metadata": {
        "colab": {
          "base_uri": "https://localhost:8080/"
        },
        "id": "6BIuj-Bd6Dcf",
        "outputId": "fc021cca-b702-44fb-a3c5-54e47a378507"
      },
      "execution_count": null,
      "outputs": [
        {
          "output_type": "stream",
          "name": "stdout",
          "text": [
            "Введите количество членов числового ряда: 10\n",
            "Сумма членов числового ряда: ( 1 2 3 4 5 6 7 8 9 10 ) = 55 "
          ]
        }
      ]
    }
  ]
}